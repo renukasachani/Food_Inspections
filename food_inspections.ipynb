{
 "cells": [
  {
   "cell_type": "code",
   "execution_count": 1,
   "metadata": {},
   "outputs": [],
   "source": [
    "#Importing libraries\n",
    "import csv\n",
    "from collections import Counter"
   ]
  },
  {
   "cell_type": "code",
   "execution_count": 2,
   "metadata": {},
   "outputs": [],
   "source": [
    "#Importing the data from CSV file and storing in food variable.\n",
    "food = list(csv.DictReader(open('Food.csv')))"
   ]
  },
  {
   "cell_type": "markdown",
   "metadata": {},
   "source": [
    "#### Problem       : Irregular Casing\n",
    "#### Solution       : Converting all the text to Upper case \n",
    "#### Justification: Easy to Comprehend "
   ]
  },
  {
   "cell_type": "code",
   "execution_count": 3,
   "metadata": {},
   "outputs": [
    {
     "data": {
      "text/plain": [
       "OrderedDict([('ï»¿Inspection ID', '2177022'),\n",
       "             ('DBA Name', 'CORNERSTONE CHILD CARE'),\n",
       "             ('AKA Name', 'CORNERSTONE CHILD CARE'),\n",
       "             ('License #', '2215716'),\n",
       "             ('Facility Type', 'Daycare Above and Under 2 Years'),\n",
       "             ('Risk', 'Risk 1 (High)'),\n",
       "             ('Address', '1111 N WELLS ST'),\n",
       "             ('City', 'CHICAGO'),\n",
       "             ('State', 'IL'),\n",
       "             ('Zip', '60610'),\n",
       "             ('Inspection Date', '06/08/2018'),\n",
       "             ('Inspection Type', 'Canvass'),\n",
       "             ('Results', 'Pass'),\n",
       "             ('Violations',\n",
       "              '32. FOOD AND NON-FOOD CONTACT SURFACES PROPERLY DESIGNED, CONSTRUCTED AND MAINTAINED - Comments: Observed duct tape used as means of repair on faucet sprayer in pre school 1 class room. Instructed manager to repair and maintain at all times.  | 35. WALLS, CEILINGS, ATTACHED EQUIPMENT CONSTRUCTED PER CODE: GOOD REPAIR, SURFACES CLEAN AND DUST-LESS CLEANING METHODS - Comments: Observed 72 X 38 in wide square hole in wall and ceiling of mop closet, directly above mop sink, at all times. Instructed manager to repair and maintain at all times. | 38. VENTILATION: ROOMS AND EQUIPMENT VENTED AS REQUIRED: PLUMBING: INSTALLED AND MAINTAINED - Comments: Observed small leak underneath 1 comp sink in early pre school class room. Instructed manager to repair and maintain at all times.  Observed small leak at sprayer faucet in pre school 1 class room. Instructed manager to repair and maintain at all times.  | 41. PREMISES MAINTAINED FREE OF LITTER, UNNECESSARY ARTICLES, CLEANING  EQUIPMENT PROPERLY STORED - Comments: Observed clutter, arts and crafts supplies, stored on floor in closet of pre-K one room. Instructed manager to elevate, remove any unnecessary items and organize entire area and elevate at least 6 inches off the floor at all times.'),\n",
       "             ('Latitude', '41.90243867998565'),\n",
       "             ('Longitude', '-87.63427774207456'),\n",
       "             ('Location', '(41.90243867998565, -87.63427774207456)')])"
      ]
     },
     "execution_count": 3,
     "metadata": {},
     "output_type": "execute_result"
    }
   ],
   "source": [
    "#Checking the first record of the csv file before performing upper case\n",
    "food[0]"
   ]
  },
  {
   "cell_type": "code",
   "execution_count": 4,
   "metadata": {},
   "outputs": [],
   "source": [
    "#Converting all the string data to upper case for better Visuals\n",
    "for row in food:\n",
    "        row['DBA Name']=row['DBA Name'].upper()\n",
    "        \n",
    "        row['AKA Name']=row['AKA Name'].upper()\n",
    "        \n",
    "        row['Facility Type']=row['Facility Type'].upper()\n",
    "        \n",
    "        row['Risk']=row['Risk'].upper()\n",
    "        \n",
    "        row['Address']=row['Address'].upper()\n",
    "        \n",
    "        row['City']=row['City'].upper()\n",
    "        \n",
    "        row['State']=row['State'].upper()\n",
    "        \n",
    "        row['Zip']=row['Zip'].upper()\n",
    "        \n",
    "        row['Inspection Type']=row['Inspection Type'].upper()\n",
    "        \n",
    "        row['Results']=row['Results'].upper()\n",
    "        \n",
    "        row['Violations']=row['Violations'].upper()"
   ]
  },
  {
   "cell_type": "code",
   "execution_count": 5,
   "metadata": {},
   "outputs": [
    {
     "data": {
      "text/plain": [
       "OrderedDict([('ï»¿Inspection ID', '2177022'),\n",
       "             ('DBA Name', 'CORNERSTONE CHILD CARE'),\n",
       "             ('AKA Name', 'CORNERSTONE CHILD CARE'),\n",
       "             ('License #', '2215716'),\n",
       "             ('Facility Type', 'DAYCARE ABOVE AND UNDER 2 YEARS'),\n",
       "             ('Risk', 'RISK 1 (HIGH)'),\n",
       "             ('Address', '1111 N WELLS ST'),\n",
       "             ('City', 'CHICAGO'),\n",
       "             ('State', 'IL'),\n",
       "             ('Zip', '60610'),\n",
       "             ('Inspection Date', '06/08/2018'),\n",
       "             ('Inspection Type', 'CANVASS'),\n",
       "             ('Results', 'PASS'),\n",
       "             ('Violations',\n",
       "              '32. FOOD AND NON-FOOD CONTACT SURFACES PROPERLY DESIGNED, CONSTRUCTED AND MAINTAINED - COMMENTS: OBSERVED DUCT TAPE USED AS MEANS OF REPAIR ON FAUCET SPRAYER IN PRE SCHOOL 1 CLASS ROOM. INSTRUCTED MANAGER TO REPAIR AND MAINTAIN AT ALL TIMES.  | 35. WALLS, CEILINGS, ATTACHED EQUIPMENT CONSTRUCTED PER CODE: GOOD REPAIR, SURFACES CLEAN AND DUST-LESS CLEANING METHODS - COMMENTS: OBSERVED 72 X 38 IN WIDE SQUARE HOLE IN WALL AND CEILING OF MOP CLOSET, DIRECTLY ABOVE MOP SINK, AT ALL TIMES. INSTRUCTED MANAGER TO REPAIR AND MAINTAIN AT ALL TIMES. | 38. VENTILATION: ROOMS AND EQUIPMENT VENTED AS REQUIRED: PLUMBING: INSTALLED AND MAINTAINED - COMMENTS: OBSERVED SMALL LEAK UNDERNEATH 1 COMP SINK IN EARLY PRE SCHOOL CLASS ROOM. INSTRUCTED MANAGER TO REPAIR AND MAINTAIN AT ALL TIMES.  OBSERVED SMALL LEAK AT SPRAYER FAUCET IN PRE SCHOOL 1 CLASS ROOM. INSTRUCTED MANAGER TO REPAIR AND MAINTAIN AT ALL TIMES.  | 41. PREMISES MAINTAINED FREE OF LITTER, UNNECESSARY ARTICLES, CLEANING  EQUIPMENT PROPERLY STORED - COMMENTS: OBSERVED CLUTTER, ARTS AND CRAFTS SUPPLIES, STORED ON FLOOR IN CLOSET OF PRE-K ONE ROOM. INSTRUCTED MANAGER TO ELEVATE, REMOVE ANY UNNECESSARY ITEMS AND ORGANIZE ENTIRE AREA AND ELEVATE AT LEAST 6 INCHES OFF THE FLOOR AT ALL TIMES.'),\n",
       "             ('Latitude', '41.90243867998565'),\n",
       "             ('Longitude', '-87.63427774207456'),\n",
       "             ('Location', '(41.90243867998565, -87.63427774207456)')])"
      ]
     },
     "execution_count": 5,
     "metadata": {},
     "output_type": "execute_result"
    }
   ],
   "source": [
    "# Re-checking the first record of the file after converting to upper case \n",
    "food[0]"
   ]
  },
  {
   "cell_type": "markdown",
   "metadata": {},
   "source": [
    "#### Problem: Encountered NULL Value in the data set \n",
    "#### Solution: Assigning values based on the type of entry\n",
    "#### Justification : To get a clean and complete data set\n"
   ]
  },
  {
   "cell_type": "code",
   "execution_count": 6,
   "metadata": {},
   "outputs": [
    {
     "data": {
      "text/plain": [
       "Counter({'': 2478})"
      ]
     },
     "execution_count": 6,
     "metadata": {},
     "output_type": "execute_result"
    }
   ],
   "source": [
    "# Checking the count for NUll in AKA Name\n",
    "Counter([row['AKA Name'] for row in food if row['AKA Name'] == ''])"
   ]
  },
  {
   "cell_type": "code",
   "execution_count": 7,
   "metadata": {},
   "outputs": [],
   "source": [
    "# Above result shows that AKA Name has NULL value so replacing all of them with the corresponding DBA Name, as-\n",
    "# most of the entries in AKA Name is same as the corresponding entries in DBA Name.\n",
    "# Therefore, the Null values in AKA Name has been replaced with the-\n",
    "# corresponding DBA Name\n",
    "for row in food:\n",
    "    if row['AKA Name'] == '':\n",
    "        row['AKA Name']+=row['DBA Name']"
   ]
  },
  {
   "cell_type": "code",
   "execution_count": 8,
   "metadata": {},
   "outputs": [
    {
     "data": {
      "text/plain": [
       "Counter()"
      ]
     },
     "execution_count": 8,
     "metadata": {},
     "output_type": "execute_result"
    }
   ],
   "source": [
    "# Re-checking the count after replacing all the AKA Names with DBA Name\n",
    "Counter([row['AKA Name'] for row in food if row['AKA Name'] == ''])"
   ]
  },
  {
   "cell_type": "code",
   "execution_count": 9,
   "metadata": {},
   "outputs": [
    {
     "data": {
      "text/plain": [
       "Counter({'': 48})"
      ]
     },
     "execution_count": 9,
     "metadata": {},
     "output_type": "execute_result"
    }
   ],
   "source": [
    "#Checking if state has any NULL value \n",
    "Counter([row['State'] for row in food if row['State'] == ''])"
   ]
  },
  {
   "cell_type": "code",
   "execution_count": 10,
   "metadata": {},
   "outputs": [],
   "source": [
    "#Above result shows that State has NULL values \n",
    "#Thus, replacing blank states with 'IL', since 'IL' is the state code for the entire data set\n",
    "for row in food:\n",
    "      if row['State'] == '' :\n",
    "            row['State'] = 'IL'"
   ]
  },
  {
   "cell_type": "code",
   "execution_count": 11,
   "metadata": {},
   "outputs": [
    {
     "data": {
      "text/plain": [
       "Counter()"
      ]
     },
     "execution_count": 11,
     "metadata": {},
     "output_type": "execute_result"
    }
   ],
   "source": [
    "#Re-checking the count for state after performing the above opertion \n",
    "Counter([row['State'] for row in food if row['State'] == ''])"
   ]
  },
  {
   "cell_type": "code",
   "execution_count": 12,
   "metadata": {},
   "outputs": [
    {
     "data": {
      "text/plain": [
       "Counter({'': 73})"
      ]
     },
     "execution_count": 12,
     "metadata": {},
     "output_type": "execute_result"
    }
   ],
   "source": [
    "#Checking if Risk has any NULL value\n",
    "Counter([row['Risk'] for row in food if row['Risk'] == ''])"
   ]
  },
  {
   "cell_type": "code",
   "execution_count": 13,
   "metadata": {},
   "outputs": [],
   "source": [
    "#Above result shows that Risk has NULL values so replacing all the NULL values with 'NA', to get a clean and complete data\n",
    "for row in food:\n",
    "    if row['Risk'] == '' :\n",
    "        row['Risk'] = 'NA'"
   ]
  },
  {
   "cell_type": "code",
   "execution_count": 14,
   "metadata": {},
   "outputs": [
    {
     "data": {
      "text/plain": [
       "Counter()"
      ]
     },
     "execution_count": 14,
     "metadata": {},
     "output_type": "execute_result"
    }
   ],
   "source": [
    "#Re-checking the count after replacing all the Risk with NA\n",
    "Counter([row['Risk'] for row in food if row['Risk'] == ''])"
   ]
  },
  {
   "cell_type": "code",
   "execution_count": 15,
   "metadata": {},
   "outputs": [
    {
     "data": {
      "text/plain": [
       "Counter({'': 55346})"
      ]
     },
     "execution_count": 15,
     "metadata": {},
     "output_type": "execute_result"
    }
   ],
   "source": [
    "#Checking if Violations has NULL value\n",
    "Counter([row['Violations'] for row in food if row['Violations'] == ''])"
   ]
  },
  {
   "cell_type": "code",
   "execution_count": 16,
   "metadata": {},
   "outputs": [],
   "source": [
    "#Above Result shows that Violations has NULL value so replacing it with NA to get a clean and complete data\n",
    "for row in food:\n",
    "    if row['Violations'] == '' :\n",
    "        row['Violations'] = 'NA'"
   ]
  },
  {
   "cell_type": "code",
   "execution_count": 17,
   "metadata": {},
   "outputs": [
    {
     "data": {
      "text/plain": [
       "Counter()"
      ]
     },
     "execution_count": 17,
     "metadata": {},
     "output_type": "execute_result"
    }
   ],
   "source": [
    "#Re-checking the count after replacing all the Violations with NA\n",
    "Counter([row['Violations'] for row in food if row['Violations'] == ''])"
   ]
  },
  {
   "cell_type": "code",
   "execution_count": 18,
   "metadata": {},
   "outputs": [
    {
     "data": {
      "text/plain": [
       "Counter({'': 1})"
      ]
     },
     "execution_count": 18,
     "metadata": {},
     "output_type": "execute_result"
    }
   ],
   "source": [
    "#Checking if Inspection Type has NULL value \n",
    "Counter([row['Inspection Type'] for row in food if row['Inspection Type'] == ''])"
   ]
  },
  {
   "cell_type": "code",
   "execution_count": 19,
   "metadata": {},
   "outputs": [],
   "source": [
    "#Above Result shows that Inspection Type has NULL value so replacing it with NA to get a clean and complete data\n",
    "for row in food:\n",
    "    if row['Inspection Type'] == '' :\n",
    "        row['Inspection Type'] = 'NA'"
   ]
  },
  {
   "cell_type": "code",
   "execution_count": 20,
   "metadata": {},
   "outputs": [
    {
     "data": {
      "text/plain": [
       "Counter()"
      ]
     },
     "execution_count": 20,
     "metadata": {},
     "output_type": "execute_result"
    }
   ],
   "source": [
    "#Re-checking the Inspection Type for Inspection ID(1946612)and confirming if the Inspection Type is replaced with 'NA'\n",
    "Counter([row['Inspection Type'] for row in food if row['Inspection Type'] == ''])"
   ]
  },
  {
   "cell_type": "code",
   "execution_count": 21,
   "metadata": {},
   "outputs": [
    {
     "data": {
      "text/plain": [
       "Counter({'': 150})"
      ]
     },
     "execution_count": 21,
     "metadata": {},
     "output_type": "execute_result"
    }
   ],
   "source": [
    "#Checking the count in City column which are NULL\n",
    "Counter((row['City']) for row in food if row['City']== '')"
   ]
  },
  {
   "cell_type": "code",
   "execution_count": 22,
   "metadata": {},
   "outputs": [],
   "source": [
    "#Above Result shows that City has NULL value so replacing it with NA to get a clean and complete data\n",
    "for row in food:\n",
    "      if row['City'] == '' :\n",
    "            row['City'] = 'NA'"
   ]
  },
  {
   "cell_type": "code",
   "execution_count": 23,
   "metadata": {},
   "outputs": [
    {
     "data": {
      "text/plain": [
       "Counter()"
      ]
     },
     "execution_count": 23,
     "metadata": {},
     "output_type": "execute_result"
    }
   ],
   "source": [
    "#Re-Checking the count in City column \n",
    "Counter((row['City']) for row in food if row['City']== '')"
   ]
  },
  {
   "cell_type": "markdown",
   "metadata": {},
   "source": [
    "#### Problem: Incorrect spelling,unwanted paranthesis,backslash and single inverted quote \n",
    "#### Solution: Using rstrip, lstrip and replace  function to rectify the above problem\n",
    "#### Justification: To get  a consistent, relevant and efficient data from the data set whenever necessary"
   ]
  },
  {
   "cell_type": "code",
   "execution_count": 24,
   "metadata": {},
   "outputs": [
    {
     "data": {
      "text/plain": [
       "Counter({'DAYCARE ABOVE AND UNDER 2 YEARS': 2551,\n",
       "         'RESTAURANT': 138629,\n",
       "         \"CHILDREN'S SERVICES FACILITY\": 3398,\n",
       "         'WHOLESALE': 543,\n",
       "         'SCHOOL': 12840,\n",
       "         'CATERING': 1255,\n",
       "         'GROCERY STORE': 27173,\n",
       "         'CHARTER SCHOOL': 83,\n",
       "         'MOBILE FOOD PREPARER': 667,\n",
       "         'DAYCARE (2 - 6 YEARS)': 2767,\n",
       "         'BAKERY': 3048,\n",
       "         '': 4860,\n",
       "         'DAYCARE (2 YEARS)': 49,\n",
       "         'SHARED KITCHEN USER (LONG TERM)': 205,\n",
       "         'SPECIAL EVENT': 223,\n",
       "         'HOSPITAL': 580,\n",
       "         'DAYCARE COMBO 1586': 747,\n",
       "         'STADIUM': 45,\n",
       "         'LIQUOR': 913,\n",
       "         'MOBILE FOOD DISPENSER': 877,\n",
       "         'LONG TERM CARE': 1423,\n",
       "         'GAS STATION': 154,\n",
       "         'GOLDEN DINER': 597,\n",
       "         'EXERCISE AND NUTRITION BAR': 5,\n",
       "         'MOBILE PREPARED FOOD VENDOR': 116,\n",
       "         'RIVERWALK CAFE': 5,\n",
       "         'GROCERY/RESTAURANT': 56,\n",
       "         'NURSING HOME': 22,\n",
       "         'GAS STATION/GROCERY': 8,\n",
       "         'LIVE POULTRY': 98,\n",
       "         'ROOFTOP': 37,\n",
       "         'CUSTOM POULTRY SLAUGHTER': 12,\n",
       "         'ROOFTOPS': 17,\n",
       "         'DAYCARE (UNDER 2 YEARS)': 265,\n",
       "         'NOT FOR PROFIT': 2,\n",
       "         'BANQUET HALL': 185,\n",
       "         'TAVERN': 342,\n",
       "         'MOBILE FROZEN DESSERTS VENDOR': 63,\n",
       "         'GROCERY/BUTCHER': 8,\n",
       "         'CONVENIENCE STORE': 65,\n",
       "         'NAVY PIER KIOSK': 54,\n",
       "         'GROCERY/GAS STATION': 13,\n",
       "         'DAYCARE NIGHT': 14,\n",
       "         'WINE TASTING BAR': 6,\n",
       "         'MOBILE FROZEN DESSERTS DISPENSER-NON-MOTORIZED': 11,\n",
       "         'PASTRY SCHOOL': 13,\n",
       "         'THEATER/BAR': 4,\n",
       "         'VENDING COMMISSARY': 5,\n",
       "         'COMMISSARY': 31,\n",
       "         'CAFETERIA': 56,\n",
       "         'GAS STATION/MINI MART': 20,\n",
       "         'STORE': 43,\n",
       "         'KIOSK': 106,\n",
       "         'BANQUET': 77,\n",
       "         'SHELTER': 105,\n",
       "         'KITCHEN DEMO': 3,\n",
       "         'CANDY': 3,\n",
       "         'BREWERY': 24,\n",
       "         'LONG TERM CARE FACILITY': 17,\n",
       "         'RETAIL': 4,\n",
       "         'CANDY STORE': 9,\n",
       "         'SHARED KITCHEN': 133,\n",
       "         'FITNESS CENTER': 19,\n",
       "         'COFFEE VENDING MACHINE': 4,\n",
       "         \"1023 CHILDERN'S SERVICE FACILITY\": 10,\n",
       "         'MOBILE FOOD TRUCK': 18,\n",
       "         'ICE CREAM SHOP': 39,\n",
       "         'SUSHI COUNTER': 3,\n",
       "         'CHURCH': 40,\n",
       "         'BANQUET DINING': 11,\n",
       "         'GAS STATION/RESTAURANT': 15,\n",
       "         'DAY CARE': 3,\n",
       "         'LIQUOR/COFFEE KIOSK': 3,\n",
       "         'MOVIE THEATER': 11,\n",
       "         '1023': 15,\n",
       "         'BEVERAGE/SILVERWARE WAREHOUSE': 4,\n",
       "         'SUPPORTIVE LIVING': 20,\n",
       "         'THEATRE': 16,\n",
       "         'UNUSED STORAGE': 3,\n",
       "         'CHURCH (SPECIAL EVENTS)': 6,\n",
       "         'SHARED KITCHEN USER (LONG TREM)': 1,\n",
       "         'MAIN KITCHEN': 2,\n",
       "         'THEATER': 23,\n",
       "         'DAYCARE': 49,\n",
       "         'EVENT SPACE': 9,\n",
       "         'GAS STATION/STORE GROCERY': 5,\n",
       "         'BANQUET ROOMS': 11,\n",
       "         'NON -PROFIT': 3,\n",
       "         'SUMMER FEEDING PREP AREA': 2,\n",
       "         'COFFEE SHOP': 42,\n",
       "         'GROCERY & RESTAURANT': 29,\n",
       "         'HIGH SCHOOL KITCHEN': 3,\n",
       "         'MFD TRUCK': 5,\n",
       "         'MOBILE FOOD': 10,\n",
       "         'TRUCK': 6,\n",
       "         'RESTAURANT/BAR': 40,\n",
       "         'GROCERY/BAKERY': 10,\n",
       "         \"CHILDERN'S SERVICES  FACILITY\": 5,\n",
       "         'JUICE AND SALAD BAR': 5,\n",
       "         'ROOF TOPS': 24,\n",
       "         'ANIMAL SHELTER CAFE PERMIT': 4,\n",
       "         'OTHER': 10,\n",
       "         'HOSTEL': 7,\n",
       "         'HEALTH CARE STORE': 5,\n",
       "         'SNACK SHOP': 5,\n",
       "         'DAY CARE 2-14': 7,\n",
       "         'COFFEE CART': 9,\n",
       "         'CHURCH KITCHEN': 31,\n",
       "         'GROCERY STORE/ RESTAURANT': 9,\n",
       "         'BAR': 28,\n",
       "         'CONVENIENCE/DRUG STORE': 11,\n",
       "         'BANQUET ROOM': 8,\n",
       "         'MOVIE THEATRE': 15,\n",
       "         'BOWLING LANES/BANQUETS': 4,\n",
       "         'CANDY/GELATO': 12,\n",
       "         'PUBLIC SHCOOL': 15,\n",
       "         'GROCERY/DRUG STORE': 7,\n",
       "         'ASSISTED LIVING': 28,\n",
       "         'CULINARY SCHOOL': 29,\n",
       "         'GROCERY STORE/GAS STATION': 23,\n",
       "         'TEACHING SCHOOL': 6,\n",
       "         'PUSHCART': 2,\n",
       "         'DONUT SHOP': 10,\n",
       "         'ILLEGAL VENDOR': 3,\n",
       "         'BAKERY/GROCERY': 3,\n",
       "         \"CHILDERN'S SERVICE FACILITY\": 7,\n",
       "         'COMMISSARY FOR SOFT SERVE ICE CREAM TRUCKS': 12,\n",
       "         'TEA STORE': 2,\n",
       "         'PALETERIA': 23,\n",
       "         'UNIVERSITY CAFETERIA': 16,\n",
       "         'MEXICAN CANDY STORE': 4,\n",
       "         'GAS STATION/CONVENIENCE STORE': 6,\n",
       "         'ROOF TOP': 20,\n",
       "         'GROCERY/DOLLAR STORE': 10,\n",
       "         'SHARED KITCHEN USER (SHORT TERM)': 42,\n",
       "         'POP-UP ESTABLISHMENT HOST-TIER II': 34,\n",
       "         'DAYCARE COMBO': 6,\n",
       "         'COFFEE/TEA': 3,\n",
       "         'PRIVATE SCHOOL': 60,\n",
       "         'HOT DOG STATION': 6,\n",
       "         'POULTRY SLAUGHTER': 11,\n",
       "         \"1023 CHILDERN'S SERVICES FACILITY\": 36,\n",
       "         'HOOKA LOUNGE': 4,\n",
       "         'RIVERWALK': 12,\n",
       "         'GROCERY/TAVERN': 5,\n",
       "         'REST/ROOFTOP': 8,\n",
       "         'RESTAURANT/GROCERY STORE': 27,\n",
       "         'CHARTER SCHOOL/CAFETERIA': 2,\n",
       "         'NUTRITION STORE': 2,\n",
       "         'ASSISTED LIVING SENIOR CARE': 13,\n",
       "         'COLD/FROZEN FOOD STORAGE': 4,\n",
       "         'CONVENIENT STORE': 5,\n",
       "         \"O'HARE KIOSK\": 12,\n",
       "         'GROCERY STORE/DELI': 5,\n",
       "         'THEATER & RESTAURANT': 8,\n",
       "         'MOBILE DESSERTS VENDOR': 22,\n",
       "         'HERBALIFE': 17,\n",
       "         'FOOD PANTRY': 4,\n",
       "         'NOT-FOR-PROFIT CLUB': 6,\n",
       "         'ADULT DAYCARE': 3,\n",
       "         'DRUG STORE': 5,\n",
       "         'WAREHOUSE': 10,\n",
       "         'WINE STORE': 12,\n",
       "         'GROCERY STORE/COOKING SCHOOL': 11,\n",
       "         'BREWPUB': 10,\n",
       "         'PACKAGED LIQUOR': 5,\n",
       "         'GROCERY(GAS STATION)': 2,\n",
       "         'HOTEL': 30,\n",
       "         'BANQUETS': 9,\n",
       "         'MEAT PACKING': 8,\n",
       "         'GROCERY AND BUTCHER': 12,\n",
       "         'CHURCH/SPECIAL EVENTS': 12,\n",
       "         'AIRPORT LOUNGE': 14,\n",
       "         'GROCERY& RESTAURANT': 11,\n",
       "         'BANQUET/KITCHEN': 9,\n",
       "         'PHARMACY': 5,\n",
       "         'DOLLAR & GROCERY STORE': 3,\n",
       "         'PREPACKAGE MEAL DISTRIBUTOR (1006 RETAIL)': 2,\n",
       "         'CONVENIENCE': 45,\n",
       "         'COOKING SCHOOL': 30,\n",
       "         'ROOM SERVICE': 6,\n",
       "         'CULINARY CLASS ROOMS': 2,\n",
       "         'COFFEE KIOSK': 6,\n",
       "         'RESTAURANT(PROTEIN SHAKE BAR)': 9,\n",
       "         'CULINARY ARTS SCHOOL': 8,\n",
       "         'GAS STATION STORE': 3,\n",
       "         'POOL': 6,\n",
       "         'GROCERY STORE / GAS STATION': 7,\n",
       "         'SUPPORTIVE LIVING FACILITY': 8,\n",
       "         'JUICE BAR': 15,\n",
       "         'FROZEN DESSERT PUSHCARTS': 5,\n",
       "         'YOUTH HOUSING': 3,\n",
       "         \"1023 CHILDERN'S SERVICE S FACILITY\": 8,\n",
       "         'DOLLAR STORE': 10,\n",
       "         'SENIOR DAY CARE': 9,\n",
       "         'PANTRY': 9,\n",
       "         'WRIGLEY ROOFTOP': 16,\n",
       "         'GROCERY STORE/TAQUERIA': 12,\n",
       "         'BAKERY/DELI': 11,\n",
       "         'HERBAL REMEDY': 3,\n",
       "         'RESTUARANT AND BAR': 9,\n",
       "         'CATERING/BANQUET': 6,\n",
       "         'RESTAURANT/BAKERY': 7,\n",
       "         'CATERED EVENTS': 3,\n",
       "         'NAIL SHOP': 1,\n",
       "         'AFTER SCHOOL PROGRAM': 19,\n",
       "         'DINING HALL': 7,\n",
       "         'PRE PACKAGED': 3,\n",
       "         'CHARITY AID KITCHEN': 9,\n",
       "         'SCHOOL CAFETERIA': 8,\n",
       "         'GROCERY/ RESTAURANT': 2,\n",
       "         'DELI': 5,\n",
       "         'EMPLOYEE KITCHEN': 12,\n",
       "         'CITY OF CHICAGO COLLEGE': 9,\n",
       "         'SHAKES/TEAS': 1,\n",
       "         'CHARTER SCHOOL CAFETERIA': 6,\n",
       "         'ICE CREAM': 10,\n",
       "         'TAVERN/STORE': 3,\n",
       "         'BAKERY/ RESTAURANT': 2,\n",
       "         'MUSIC VENUE': 3,\n",
       "         '15 MONTS TO 5 YEARS OLD': 8,\n",
       "         'GAS STATION/STORE': 14,\n",
       "         'WRIGLEY ROOF TOP': 19,\n",
       "         'GROCERY': 10,\n",
       "         'HERBALIFE/ZUMBA': 5,\n",
       "         'GROCERY STORE/BAKERY': 15,\n",
       "         'A-NOT-FOR-PROFIT CHEF TRAINING PROGRAM': 9,\n",
       "         'MOBILPREPARED FOOD VENDOR': 3,\n",
       "         \"1023-CHILDREN'S SERVICES FACILITY\": 28,\n",
       "         'TAVERN GRILL': 7,\n",
       "         'REGULATED BUSINESS': 7,\n",
       "         'COFFEE  SHOP': 5,\n",
       "         'BANQUET FACILITY': 13,\n",
       "         'DAYCARE 6 WKS-5YRS': 3,\n",
       "         'CANDY MAKER': 2,\n",
       "         'GAS STATION/ GROCERY STORE': 2,\n",
       "         'TENT RSTAURANT': 3,\n",
       "         'NORTHERLY ISLAND': 6,\n",
       "         'INCUBATOR': 1,\n",
       "         'BUTCHER SHOP': 9,\n",
       "         'ART GALLERY W/WINE AND BEER': 2,\n",
       "         'COLLEGE': 12,\n",
       "         'CHARTER': 15,\n",
       "         'HERBAL LIFE SHOP': 10,\n",
       "         'PRODUCE STAND': 2,\n",
       "         'LOUNGE/BANQUET HALL': 10,\n",
       "         'WEIGHT LOSS PROGRAM': 4,\n",
       "         'GAS STATION FOOD STORE': 1,\n",
       "         'CANDY SHOP': 4,\n",
       "         'LIQUOR CONSUMPTION ON PREMISES.': 2,\n",
       "         'RESTAURANT.BANQUET HALLS': 9,\n",
       "         'MOBILE FROZEN DESSERT DISPENSER_NON  MOTORIZED.': 3,\n",
       "         'GOLF COURSE CONNCESSION STAND': 5,\n",
       "         'GROCERY/CAFE': 6,\n",
       "         'GROCERY(SUSHI PREP)': 20,\n",
       "         'FROZEN DESSERTS DISPENSER -NON MOTORIZED': 1,\n",
       "         'HERBALCAL': 3,\n",
       "         'RESTAURANT/GROCERY': 4,\n",
       "         'WHOLESALE & RETAIL': 2,\n",
       "         'RETAIL STORE OFFERS COOKING CLASSES': 8,\n",
       "         'CHURCH/DAY CARE': 3,\n",
       "         'NON-FOR PROFIT BASEMENT KIT': 1,\n",
       "         'NP-KIOSK': 1,\n",
       "         'CATERING/CAFE': 6,\n",
       "         'NIGHT CLUB': 7,\n",
       "         'MOBIL FOOD 1315': 1,\n",
       "         'SERVICE BAR/THEATRE': 1,\n",
       "         'VIDEO STORE': 4,\n",
       "         'CAFE': 2,\n",
       "         'RETAIL STORE': 4,\n",
       "         'MOBILE DESSERT CART': 1,\n",
       "         'DAYCARE 2-6, UNDER 6': 6,\n",
       "         'LAUNDROMAT': 4,\n",
       "         'CELL PHONE STORE': 3,\n",
       "         'REHAB CENTER': 12,\n",
       "         'DRUG/FOOD STORE': 7,\n",
       "         'CHURCH/SPECIAL EVENT': 3,\n",
       "         'SMOKEHOUSE': 5,\n",
       "         'TAP ROOM/TAVERN/LIQUOR STORE': 1,\n",
       "         'PRIVATE CLUB': 2,\n",
       "         'LONG-TERM CARE FACILITY': 4,\n",
       "         'HERBAL DRINKS': 4,\n",
       "         'LIQUOR STORE': 9,\n",
       "         'ROOFTOP PATIO': 1,\n",
       "         'LONG-TERM CARE': 4,\n",
       "         'FISH MARKET': 7,\n",
       "         'MOBILE FROZEN DESSERT VENDOR': 7,\n",
       "         'DISTRIBUTION CENTER': 6,\n",
       "         'HEALTH/ JUICE BAR': 14,\n",
       "         'HAIR SALON': 2,\n",
       "         'RESTAURANT/HOSPITAL': 11,\n",
       "         'PACKAGED HEALTH FOODS': 4,\n",
       "         'BAR/GRILL': 5,\n",
       "         'PACKAGED FOOD DISTRIBUTION': 3,\n",
       "         'BOYS AND GIRLS CLUB': 2,\n",
       "         'EVENT VENU': 2,\n",
       "         'GROCERY/LIQUOR': 1,\n",
       "         'DAYCARE 2 YRS TO 12 YRS': 8,\n",
       "         'HERABALIFE': 4,\n",
       "         'SERVICE GAS STATION': 2,\n",
       "         \"1023 CHILDREN'S SERVICES FACILITY\": 6,\n",
       "         'SOCIAL CLUB': 5,\n",
       "         'PREPACAKAGED FOODS': 1,\n",
       "         'RETAIL WINE/WINE BAR': 2,\n",
       "         'MILK TEA': 4,\n",
       "         'CAFE/STORE': 8,\n",
       "         'RESTAURANT/LIQUOR': 2,\n",
       "         'CHINESE HERBS': 3,\n",
       "         'LIVE BUTCHER': 3,\n",
       "         'CATERED LIQUOR': 1,\n",
       "         'POP-UP FOOD ESTABLISHMENT USER-TIER II': 3,\n",
       "         'DAY CARE 1023': 4,\n",
       "         'TAVERN/LIQUOR': 1,\n",
       "         'GROCERY/TAQUERIA': 6,\n",
       "         'ALTERNATIVE SCHOOL': 1,\n",
       "         'ASSISSTED LIVING': 2,\n",
       "         'ICE CREAM PARLOR': 3,\n",
       "         'REST/GROCERY': 9,\n",
       "         'GOLF COURSE': 3,\n",
       "         'RESTAURANT/BAR/THEATER': 2,\n",
       "         'DELI/GROCERY': 10,\n",
       "         'GELATO SHOP': 3,\n",
       "         'UNLICENSED FACILITY': 3,\n",
       "         'GROCERY/SERVICE GAS STATION': 8,\n",
       "         'FROZEN DESSERTS DISPENSER-NON-MOTORIZED': 1,\n",
       "         'FRENCH MARKET SPACE': 5,\n",
       "         'BANQUET HALL/CATERING': 9,\n",
       "         'HERBAL MEDICINE': 5,\n",
       "         'JUICE BAR/GROCERY': 2,\n",
       "         'MOBILE FROZEN DESSERT DISP/NON-MOTORIZED': 2,\n",
       "         'FOOD PANTRY/CHURCH': 2,\n",
       "         'PUSH CARTS': 4,\n",
       "         'TOBACCO STORE': 2,\n",
       "         'CHILDRENS SERVICES FACILITY': 9,\n",
       "         'BLOCKBUSTER VIDEO': 3,\n",
       "         'RELIGIOUS': 1,\n",
       "         'NEWSSTAND': 4,\n",
       "         'POPCORN CORN': 2,\n",
       "         'TAVERN/RESTAURANT': 3,\n",
       "         'SMOOTHIE BAR': 3,\n",
       "         'HEALTH CENTER/NUTRITION CLASSES': 1,\n",
       "         'SLAUGHTER HOUSE/ GROCERY': 14,\n",
       "         'CONVENIENCE/GAS STATION': 2,\n",
       "         'MASSAGE BAR': 2,\n",
       "         'ADULT FAMILY CARE CENTER': 3,\n",
       "         '(CONVENIENCE STORE)': 1,\n",
       "         'SUMMER FEEDING': 2,\n",
       "         'GAS STATION /GROCERY': 5,\n",
       "         'DELI/GROCERY STORE': 6,\n",
       "         'VFW HALL': 2,\n",
       "         'NUTRITION SHAKES': 1,\n",
       "         'REST/GYM': 7,\n",
       "         'CLOTHING STORE': 2,\n",
       "         'GROCERY/DELI': 3,\n",
       "         'GROCERY STORE /PHARMACY': 2,\n",
       "         'PEDDLER': 1,\n",
       "         'DRUG STORE/W/ FOOD': 1,\n",
       "         'NUTRITION/HERBALIFE': 2,\n",
       "         'CAR WASH': 1,\n",
       "         '(GAS STATION)': 2,\n",
       "         'RETAIL FOOD/GAS STATION': 4,\n",
       "         'HERBAL LIFE': 4,\n",
       "         'DAYCARE 1586': 2,\n",
       "         'BEFORE AND AFTER SCHOOL PROGRAM': 7,\n",
       "         'BANQUETS/ROOM SERVICE': 3,\n",
       "         'GYM STORE': 3,\n",
       "         'COFFEE': 3,\n",
       "         'CHURCH/AFTER SCHOOL PROGRAM': 1,\n",
       "         'PREP INSIDE SCHOOL': 3,\n",
       "         'INTERNET CAFE': 1,\n",
       "         'AFTER SCHOOL CARE': 1,\n",
       "         'LOUNGE': 3,\n",
       "         'POPCORN SHOP': 2,\n",
       "         'BOOK STORE': 1,\n",
       "         'HERBAL STORE': 1,\n",
       "         'TEMPORARY KIOSK': 3,\n",
       "         'DRUG STORE/GROCERY': 4,\n",
       "         '1005 NURSING HOME': 3,\n",
       "         'MOBILE DESSERT VENDOR': 1,\n",
       "         'SHUFFLEBOARD CLUB WITH BAR': 3,\n",
       "         'GAS STATION/FOOD': 5,\n",
       "         'BAKERY/RESTAURANT': 2,\n",
       "         'TAVERN/BAR': 3,\n",
       "         'HELICOPTER TERMINAL': 2,\n",
       "         'HOT DOG CART': 2,\n",
       "         'DOLLAR TREE': 3,\n",
       "         'HERBALIFE STORE': 1,\n",
       "         'GYM': 2,\n",
       "         'ART GALLERY': 1,\n",
       "         'GROCERY/LIQUOR STORE': 1,\n",
       "         'COMMISARY RESTAURANT': 3,\n",
       "         'LIQUORE STORE/BAR': 2,\n",
       "         'URBAN FARM': 2,\n",
       "         'DELI/BAKERY': 1,\n",
       "         'SOUP KITCHEN': 2,\n",
       "         'LINITED BUSINESS': 2,\n",
       "         'DOLLAR STORE WITH GROCERY': 1,\n",
       "         'COFFEE ROASTER': 1,\n",
       "         'CONVNIENCE STORE': 3,\n",
       "         'CATERING AND WHOLESALE': 2,\n",
       "         'FOOD VENDING MACHINES': 1,\n",
       "         'PALETERIA /ICECREAM SHOP': 3,\n",
       "         'CHILDERN ACTIVITY FACILITY': 2,\n",
       "         'MUSEUM/GALLERY': 2,\n",
       "         'WATERMELON HOUSE': 3,\n",
       "         'MOBILE FOOD DESSERTS VENDOR': 1,\n",
       "         'GROCERY DELIVERY SERVICE': 1,\n",
       "         'COMMIASARY': 1,\n",
       "         'GIFT SHOP': 1,\n",
       "         'FITNESS STUDIO': 3,\n",
       "         'VENDING MACHINE': 2,\n",
       "         'CAT/LIQUOR': 1,\n",
       "         'RESTAURANT AND LIQUOR': 1,\n",
       "         'DISTRIBUTOR': 2,\n",
       "         'DAY CARE COMBO (1586)': 1,\n",
       "         'MEAT MARKET': 1,\n",
       "         'GAS STATION /SUBWAY MINI MART.': 2,\n",
       "         '1584-DAY CARE ABOVE 2 YEARS': 2,\n",
       "         \"KIDS CAFE'\": 1,\n",
       "         'TAVERN/1006': 1,\n",
       "         'REPACKAGING PLANT': 1,\n",
       "         '1475 LIQUOR': 2,\n",
       "         'FOOD BOOTH': 2,\n",
       "         'PRODUCE VENDOR': 1,\n",
       "         'HEALTH CENTER': 3,\n",
       "         'KIDS CAFE': 1,\n",
       "         'GENERAL STORE': 2,\n",
       "         'CHICAGO PARK DISTRICT': 1,\n",
       "         'HERBALIFE NUTRITION': 1,\n",
       "         'MOBILE FROZEN DESSERTS DISPENSER-NON- MOTORIZED': 1,\n",
       "         'HERBAL': 1,\n",
       "         'WHOLESALE BAKERY': 1,\n",
       "         'LIQOUR BREWERY TASTING': 2,\n",
       "         'DRUG TREATMENT FACILITY': 1,\n",
       "         'FURNITURE STORE': 1,\n",
       "         'MOBILE FROZEN DESSERTS DISPENSER-NON-MOTOR': 1,\n",
       "         'HOOKA BAR': 1,\n",
       "         'SPA': 1,\n",
       "         'DAY SPA': 1,\n",
       "         'PROTEIN SHAKE BAR': 1,\n",
       "         \"FARMER'S MARKET\": 1,\n",
       "         'TAVERN-LIQUOR': 1})"
      ]
     },
     "execution_count": 24,
     "metadata": {},
     "output_type": "execute_result"
    }
   ],
   "source": [
    "#Checking for incorrect data\n",
    "Counter(row['Facility Type'] for row in food)"
   ]
  },
  {
   "cell_type": "code",
   "execution_count": 25,
   "metadata": {},
   "outputs": [
    {
     "data": {
      "text/plain": [
       "442"
      ]
     },
     "execution_count": 25,
     "metadata": {},
     "output_type": "execute_result"
    }
   ],
   "source": [
    "#Checking the length of incorrect data\n",
    "len(Counter(row['Facility Type'] for row in food))"
   ]
  },
  {
   "cell_type": "markdown",
   "metadata": {},
   "source": [
    "#### Removing unwanted paranthesis,backslash and single inverted quote by using rstrip, lstrip and replace  function"
   ]
  },
  {
   "cell_type": "code",
   "execution_count": 26,
   "metadata": {},
   "outputs": [],
   "source": [
    "#Rectifying the above problem.\n",
    "for row in food:\n",
    "    if row['Facility Type'] == 'DAY CARE 1023':\n",
    "        continue\n",
    "        \n",
    "    elif row['Facility Type'].startswith('1023') and len(row['Facility Type'])>4:\n",
    "        row['Facility Type'] = \"'1023 CHILDREN'S SERVICES FACILITY'\"#spelling mistake  \n",
    "        \n",
    "    elif row['Facility Type'] == '(CONVENIENCE STORE)' or row['Facility Type'] == '(GAS STATION)':\n",
    "        row['Facility Type'] = row['Facility Type'].lstrip('(')#unwanted paranthesis\n",
    "        row['Facility Type'] = row['Facility Type'].rstrip(')')#unwanted paranthesis\n",
    "        \n",
    "    elif row['Facility Type'] == 'ASSISSTED LIVING': \n",
    "        row['Facility Type'] = 'ASSISTED LIVING'#spelling mistake\n",
    "        \n",
    "    elif row['Facility Type'] == 'BANQUET ROOMS' or row['Facility Type'] == 'BANQUETS': \n",
    "        row['Facility Type'] = row['Facility Type'].rstrip('S')#Extra Letter\n",
    "        \n",
    "    elif row['Facility Type'] == 'CHARTER SCHOOL/CAFETERIA': \n",
    "        row['Facility Type'] = row['Facility Type'].replace('/',' ')#Unwanted backslash\n",
    "        \n",
    "    elif row['Facility Type'] == 'CHILDERN ACTIVITY FACILITY':\n",
    "        row['Facility Type'] = row['Facility Type'].replace('CHILDERN','CHILDREN')#spelling mistake\n",
    "        \n",
    "    elif row['Facility Type'].startswith(\"CHILDERN'S\") or row['Facility Type'].startswith(\"CHILDRENS\"):\n",
    "        row['Facility Type'] = \"CHILDREN'S SERVICES FACILITY\"#spelling mistake\n",
    "        \n",
    "    elif row['Facility Type'].startswith('CHURCH/SPECIAL'):\n",
    "        row['Facility Type'] = 'CHURCH(SPECIAL EVENTS)'#unwanted backslash and missing data\n",
    "        \n",
    "    elif row['Facility Type'] == 'COMMIASARY':\n",
    "        row['Facility Type'] = row['Facility Type'].replace('COMMIASARY','COMMISARY')##spelling mistake\n",
    "        \n",
    "    elif row['Facility Type'] == 'CONVINIENT STORE':\n",
    "        row['Facility Type'] = 'CONVINIENCE STORE'#spelling mistake\n",
    "        \n",
    "    elif row['Facility Type'] == 'CONVNIENCE STORE':\n",
    "        row['Facility Type'] = 'CONVINIENCE STORE'#spelling mistake\n",
    "        \n",
    "    elif row['Facility Type'].startswith('FROZEN DESSERTS'):\n",
    "        row['Facility Type'] = 'FROZEN DESSERTS DISPENSER-NON-MOTORIZED'#spelling mistake\n",
    "        \n",
    "    elif row['Facility Type'] == 'GAS STATION/STORE':\n",
    "        row['Facility Type'] = row['Facility Type'].replace('/',' ')#unwanted backslash\n",
    "        \n",
    "    elif row['Facility Type'] == 'HERBALIFE':\n",
    "        row['Facility Type'] = 'HERBAL LIFE'#spelling mistake\n",
    "        \n",
    "    elif row['Facility Type'] == 'HERBALIFE STORE':\n",
    "        row['Facility Type'] = 'HERBAL LIFE STORE'#spelling mistake\n",
    "        \n",
    "    elif row['Facility Type'] == \"KIDS CAFE'\":   \n",
    "        row['Facility Type'] = row['Facility Type'].replace(\"'\",'')#unwanted single inverted quote\n",
    "        \n",
    "    elif row['Facility Type'] == 'MOBILE DESSERTS VENDOR':\n",
    "        row['Facility Type'] ='MOBILE DESSERT VENDOR'#spelling mistake\n",
    "        \n",
    "    elif row['Facility Type'].startswith('MOBILE FROZEN') and 'DISP' in row['Facility Type']: \n",
    "        row['Facility Type'] ='MOBILE FROZEN DESSERTS DISPENSER-NON-MOTORIZED'##spelling mistake\n",
    "        \n",
    "    elif row['Facility Type'].endswith('TOPS') or row['Facility Type'] == 'ROOFTOP':\n",
    "        row['Facility Type'] = 'ROOF TOP'#spelling mistake\n",
    "        \n",
    "    elif 'TREM)' in row['Facility Type']:\n",
    "        row['Facility Type'] = 'SHARED KITCHEN USER LONG TERM'#spelling mistake\n",
    "        \n",
    "    elif row['Facility Type'] == 'TAVERN/LIQUOR':\n",
    "        row['Facility Type'] =row['Facility Type'].replace('/','-')#unwanted backslash\n",
    "        \n",
    "    elif row['Facility Type'] == 'THEATRE':\n",
    "        row['Facility Type'] = row['Facility Type'].replace('THEATER','THEATRE')##spelling mistake\n",
    "        \n",
    "    elif row['Facility Type'] == 'WRIGLEY ROOFTOP':\n",
    "        row['Facility Type'] = 'WRIGLEY ROOF TOP'#spelling mistake"
   ]
  },
  {
   "cell_type": "code",
   "execution_count": 27,
   "metadata": {},
   "outputs": [
    {
     "data": {
      "text/plain": [
       "Counter({'DAYCARE ABOVE AND UNDER 2 YEARS': 2551,\n",
       "         'RESTAURANT': 138629,\n",
       "         \"CHILDREN'S SERVICES FACILITY\": 3419,\n",
       "         'WHOLESALE': 543,\n",
       "         'SCHOOL': 12840,\n",
       "         'CATERING': 1255,\n",
       "         'GROCERY STORE': 27173,\n",
       "         'CHARTER SCHOOL': 83,\n",
       "         'MOBILE FOOD PREPARER': 667,\n",
       "         'DAYCARE (2 - 6 YEARS)': 2767,\n",
       "         'BAKERY': 3048,\n",
       "         '': 4860,\n",
       "         'DAYCARE (2 YEARS)': 49,\n",
       "         'SHARED KITCHEN USER (LONG TERM)': 205,\n",
       "         'SPECIAL EVENT': 223,\n",
       "         'HOSPITAL': 580,\n",
       "         'DAYCARE COMBO 1586': 747,\n",
       "         'STADIUM': 45,\n",
       "         'LIQUOR': 913,\n",
       "         'MOBILE FOOD DISPENSER': 877,\n",
       "         'LONG TERM CARE': 1423,\n",
       "         'GAS STATION': 156,\n",
       "         'GOLDEN DINER': 597,\n",
       "         'EXERCISE AND NUTRITION BAR': 5,\n",
       "         'MOBILE PREPARED FOOD VENDOR': 116,\n",
       "         'RIVERWALK CAFE': 5,\n",
       "         'GROCERY/RESTAURANT': 56,\n",
       "         'NURSING HOME': 22,\n",
       "         'GAS STATION/GROCERY': 8,\n",
       "         'LIVE POULTRY': 98,\n",
       "         'ROOF TOP': 98,\n",
       "         'CUSTOM POULTRY SLAUGHTER': 12,\n",
       "         'DAYCARE (UNDER 2 YEARS)': 265,\n",
       "         'NOT FOR PROFIT': 2,\n",
       "         'BANQUET HALL': 185,\n",
       "         'TAVERN': 342,\n",
       "         'MOBILE FROZEN DESSERTS VENDOR': 63,\n",
       "         'GROCERY/BUTCHER': 8,\n",
       "         'CONVENIENCE STORE': 66,\n",
       "         'NAVY PIER KIOSK': 54,\n",
       "         'GROCERY/GAS STATION': 13,\n",
       "         'DAYCARE NIGHT': 14,\n",
       "         'WINE TASTING BAR': 6,\n",
       "         'MOBILE FROZEN DESSERTS DISPENSER-NON-MOTORIZED': 18,\n",
       "         'PASTRY SCHOOL': 13,\n",
       "         'THEATER/BAR': 4,\n",
       "         'VENDING COMMISSARY': 5,\n",
       "         'COMMISSARY': 31,\n",
       "         'CAFETERIA': 56,\n",
       "         'GAS STATION/MINI MART': 20,\n",
       "         'STORE': 43,\n",
       "         'KIOSK': 106,\n",
       "         'BANQUET': 86,\n",
       "         'SHELTER': 105,\n",
       "         'KITCHEN DEMO': 3,\n",
       "         'CANDY': 3,\n",
       "         'BREWERY': 24,\n",
       "         'LONG TERM CARE FACILITY': 17,\n",
       "         'RETAIL': 4,\n",
       "         'CANDY STORE': 9,\n",
       "         'SHARED KITCHEN': 133,\n",
       "         'FITNESS CENTER': 19,\n",
       "         'COFFEE VENDING MACHINE': 4,\n",
       "         \"'1023 CHILDREN'S SERVICES FACILITY'\": 88,\n",
       "         'MOBILE FOOD TRUCK': 18,\n",
       "         'ICE CREAM SHOP': 39,\n",
       "         'SUSHI COUNTER': 3,\n",
       "         'CHURCH': 40,\n",
       "         'BANQUET DINING': 11,\n",
       "         'GAS STATION/RESTAURANT': 15,\n",
       "         'DAY CARE': 3,\n",
       "         'LIQUOR/COFFEE KIOSK': 3,\n",
       "         'MOVIE THEATER': 11,\n",
       "         '1023': 15,\n",
       "         'BEVERAGE/SILVERWARE WAREHOUSE': 4,\n",
       "         'SUPPORTIVE LIVING': 20,\n",
       "         'THEATRE': 16,\n",
       "         'UNUSED STORAGE': 3,\n",
       "         'CHURCH (SPECIAL EVENTS)': 6,\n",
       "         'SHARED KITCHEN USER LONG TERM': 1,\n",
       "         'MAIN KITCHEN': 2,\n",
       "         'THEATER': 23,\n",
       "         'DAYCARE': 49,\n",
       "         'EVENT SPACE': 9,\n",
       "         'GAS STATION/STORE GROCERY': 5,\n",
       "         'BANQUET ROOM': 19,\n",
       "         'NON -PROFIT': 3,\n",
       "         'SUMMER FEEDING PREP AREA': 2,\n",
       "         'COFFEE SHOP': 42,\n",
       "         'GROCERY & RESTAURANT': 29,\n",
       "         'HIGH SCHOOL KITCHEN': 3,\n",
       "         'MFD TRUCK': 5,\n",
       "         'MOBILE FOOD': 10,\n",
       "         'TRUCK': 6,\n",
       "         'RESTAURANT/BAR': 40,\n",
       "         'GROCERY/BAKERY': 10,\n",
       "         'JUICE AND SALAD BAR': 5,\n",
       "         'ANIMAL SHELTER CAFE PERMIT': 4,\n",
       "         'OTHER': 10,\n",
       "         'HOSTEL': 7,\n",
       "         'HEALTH CARE STORE': 5,\n",
       "         'SNACK SHOP': 5,\n",
       "         'DAY CARE 2-14': 7,\n",
       "         'COFFEE CART': 9,\n",
       "         'CHURCH KITCHEN': 31,\n",
       "         'GROCERY STORE/ RESTAURANT': 9,\n",
       "         'BAR': 28,\n",
       "         'CONVENIENCE/DRUG STORE': 11,\n",
       "         'MOVIE THEATRE': 15,\n",
       "         'BOWLING LANES/BANQUETS': 4,\n",
       "         'CANDY/GELATO': 12,\n",
       "         'PUBLIC SHCOOL': 15,\n",
       "         'GROCERY/DRUG STORE': 7,\n",
       "         'ASSISTED LIVING': 30,\n",
       "         'CULINARY SCHOOL': 29,\n",
       "         'GROCERY STORE/GAS STATION': 23,\n",
       "         'TEACHING SCHOOL': 6,\n",
       "         'PUSHCART': 2,\n",
       "         'DONUT SHOP': 10,\n",
       "         'ILLEGAL VENDOR': 3,\n",
       "         'BAKERY/GROCERY': 3,\n",
       "         'COMMISSARY FOR SOFT SERVE ICE CREAM TRUCKS': 12,\n",
       "         'TEA STORE': 2,\n",
       "         'PALETERIA': 23,\n",
       "         'UNIVERSITY CAFETERIA': 16,\n",
       "         'MEXICAN CANDY STORE': 4,\n",
       "         'GAS STATION/CONVENIENCE STORE': 6,\n",
       "         'GROCERY/DOLLAR STORE': 10,\n",
       "         'SHARED KITCHEN USER (SHORT TERM)': 42,\n",
       "         'POP-UP ESTABLISHMENT HOST-TIER II': 34,\n",
       "         'DAYCARE COMBO': 6,\n",
       "         'COFFEE/TEA': 3,\n",
       "         'PRIVATE SCHOOL': 60,\n",
       "         'HOT DOG STATION': 6,\n",
       "         'POULTRY SLAUGHTER': 11,\n",
       "         'HOOKA LOUNGE': 4,\n",
       "         'RIVERWALK': 12,\n",
       "         'GROCERY/TAVERN': 5,\n",
       "         'REST/ROOFTOP': 8,\n",
       "         'RESTAURANT/GROCERY STORE': 27,\n",
       "         'CHARTER SCHOOL CAFETERIA': 8,\n",
       "         'NUTRITION STORE': 2,\n",
       "         'ASSISTED LIVING SENIOR CARE': 13,\n",
       "         'COLD/FROZEN FOOD STORAGE': 4,\n",
       "         'CONVENIENT STORE': 5,\n",
       "         \"O'HARE KIOSK\": 12,\n",
       "         'GROCERY STORE/DELI': 5,\n",
       "         'THEATER & RESTAURANT': 8,\n",
       "         'MOBILE DESSERT VENDOR': 23,\n",
       "         'HERBAL LIFE': 21,\n",
       "         'FOOD PANTRY': 4,\n",
       "         'NOT-FOR-PROFIT CLUB': 6,\n",
       "         'ADULT DAYCARE': 3,\n",
       "         'DRUG STORE': 5,\n",
       "         'WAREHOUSE': 10,\n",
       "         'WINE STORE': 12,\n",
       "         'GROCERY STORE/COOKING SCHOOL': 11,\n",
       "         'BREWPUB': 10,\n",
       "         'PACKAGED LIQUOR': 5,\n",
       "         'GROCERY(GAS STATION)': 2,\n",
       "         'HOTEL': 30,\n",
       "         'MEAT PACKING': 8,\n",
       "         'GROCERY AND BUTCHER': 12,\n",
       "         'CHURCH(SPECIAL EVENTS)': 15,\n",
       "         'AIRPORT LOUNGE': 14,\n",
       "         'GROCERY& RESTAURANT': 11,\n",
       "         'BANQUET/KITCHEN': 9,\n",
       "         'PHARMACY': 5,\n",
       "         'DOLLAR & GROCERY STORE': 3,\n",
       "         'PREPACKAGE MEAL DISTRIBUTOR (1006 RETAIL)': 2,\n",
       "         'CONVENIENCE': 45,\n",
       "         'COOKING SCHOOL': 30,\n",
       "         'ROOM SERVICE': 6,\n",
       "         'CULINARY CLASS ROOMS': 2,\n",
       "         'COFFEE KIOSK': 6,\n",
       "         'RESTAURANT(PROTEIN SHAKE BAR)': 9,\n",
       "         'CULINARY ARTS SCHOOL': 8,\n",
       "         'GAS STATION STORE': 17,\n",
       "         'POOL': 6,\n",
       "         'GROCERY STORE / GAS STATION': 7,\n",
       "         'SUPPORTIVE LIVING FACILITY': 8,\n",
       "         'JUICE BAR': 15,\n",
       "         'FROZEN DESSERT PUSHCARTS': 5,\n",
       "         'YOUTH HOUSING': 3,\n",
       "         'DOLLAR STORE': 10,\n",
       "         'SENIOR DAY CARE': 9,\n",
       "         'PANTRY': 9,\n",
       "         'WRIGLEY ROOF TOP': 35,\n",
       "         'GROCERY STORE/TAQUERIA': 12,\n",
       "         'BAKERY/DELI': 11,\n",
       "         'HERBAL REMEDY': 3,\n",
       "         'RESTUARANT AND BAR': 9,\n",
       "         'CATERING/BANQUET': 6,\n",
       "         'RESTAURANT/BAKERY': 7,\n",
       "         'CATERED EVENTS': 3,\n",
       "         'NAIL SHOP': 1,\n",
       "         'AFTER SCHOOL PROGRAM': 19,\n",
       "         'DINING HALL': 7,\n",
       "         'PRE PACKAGED': 3,\n",
       "         'CHARITY AID KITCHEN': 9,\n",
       "         'SCHOOL CAFETERIA': 8,\n",
       "         'GROCERY/ RESTAURANT': 2,\n",
       "         'DELI': 5,\n",
       "         'EMPLOYEE KITCHEN': 12,\n",
       "         'CITY OF CHICAGO COLLEGE': 9,\n",
       "         'SHAKES/TEAS': 1,\n",
       "         'ICE CREAM': 10,\n",
       "         'TAVERN/STORE': 3,\n",
       "         'BAKERY/ RESTAURANT': 2,\n",
       "         'MUSIC VENUE': 3,\n",
       "         '15 MONTS TO 5 YEARS OLD': 8,\n",
       "         'GROCERY': 10,\n",
       "         'HERBALIFE/ZUMBA': 5,\n",
       "         'GROCERY STORE/BAKERY': 15,\n",
       "         'A-NOT-FOR-PROFIT CHEF TRAINING PROGRAM': 9,\n",
       "         'MOBILPREPARED FOOD VENDOR': 3,\n",
       "         'TAVERN GRILL': 7,\n",
       "         'REGULATED BUSINESS': 7,\n",
       "         'COFFEE  SHOP': 5,\n",
       "         'BANQUET FACILITY': 13,\n",
       "         'DAYCARE 6 WKS-5YRS': 3,\n",
       "         'CANDY MAKER': 2,\n",
       "         'GAS STATION/ GROCERY STORE': 2,\n",
       "         'TENT RSTAURANT': 3,\n",
       "         'NORTHERLY ISLAND': 6,\n",
       "         'INCUBATOR': 1,\n",
       "         'BUTCHER SHOP': 9,\n",
       "         'ART GALLERY W/WINE AND BEER': 2,\n",
       "         'COLLEGE': 12,\n",
       "         'CHARTER': 15,\n",
       "         'HERBAL LIFE SHOP': 10,\n",
       "         'PRODUCE STAND': 2,\n",
       "         'LOUNGE/BANQUET HALL': 10,\n",
       "         'WEIGHT LOSS PROGRAM': 4,\n",
       "         'GAS STATION FOOD STORE': 1,\n",
       "         'CANDY SHOP': 4,\n",
       "         'LIQUOR CONSUMPTION ON PREMISES.': 2,\n",
       "         'RESTAURANT.BANQUET HALLS': 9,\n",
       "         'GOLF COURSE CONNCESSION STAND': 5,\n",
       "         'GROCERY/CAFE': 6,\n",
       "         'GROCERY(SUSHI PREP)': 20,\n",
       "         'FROZEN DESSERTS DISPENSER-NON-MOTORIZED': 2,\n",
       "         'HERBALCAL': 3,\n",
       "         'RESTAURANT/GROCERY': 4,\n",
       "         'WHOLESALE & RETAIL': 2,\n",
       "         'RETAIL STORE OFFERS COOKING CLASSES': 8,\n",
       "         'CHURCH/DAY CARE': 3,\n",
       "         'NON-FOR PROFIT BASEMENT KIT': 1,\n",
       "         'NP-KIOSK': 1,\n",
       "         'CATERING/CAFE': 6,\n",
       "         'NIGHT CLUB': 7,\n",
       "         'MOBIL FOOD 1315': 1,\n",
       "         'SERVICE BAR/THEATRE': 1,\n",
       "         'VIDEO STORE': 4,\n",
       "         'CAFE': 2,\n",
       "         'RETAIL STORE': 4,\n",
       "         'MOBILE DESSERT CART': 1,\n",
       "         'DAYCARE 2-6, UNDER 6': 6,\n",
       "         'LAUNDROMAT': 4,\n",
       "         'CELL PHONE STORE': 3,\n",
       "         'REHAB CENTER': 12,\n",
       "         'DRUG/FOOD STORE': 7,\n",
       "         'SMOKEHOUSE': 5,\n",
       "         'TAP ROOM/TAVERN/LIQUOR STORE': 1,\n",
       "         'PRIVATE CLUB': 2,\n",
       "         'LONG-TERM CARE FACILITY': 4,\n",
       "         'HERBAL DRINKS': 4,\n",
       "         'LIQUOR STORE': 9,\n",
       "         'ROOFTOP PATIO': 1,\n",
       "         'LONG-TERM CARE': 4,\n",
       "         'FISH MARKET': 7,\n",
       "         'MOBILE FROZEN DESSERT VENDOR': 7,\n",
       "         'DISTRIBUTION CENTER': 6,\n",
       "         'HEALTH/ JUICE BAR': 14,\n",
       "         'HAIR SALON': 2,\n",
       "         'RESTAURANT/HOSPITAL': 11,\n",
       "         'PACKAGED HEALTH FOODS': 4,\n",
       "         'BAR/GRILL': 5,\n",
       "         'PACKAGED FOOD DISTRIBUTION': 3,\n",
       "         'BOYS AND GIRLS CLUB': 2,\n",
       "         'EVENT VENU': 2,\n",
       "         'GROCERY/LIQUOR': 1,\n",
       "         'DAYCARE 2 YRS TO 12 YRS': 8,\n",
       "         'HERABALIFE': 4,\n",
       "         'SERVICE GAS STATION': 2,\n",
       "         'SOCIAL CLUB': 5,\n",
       "         'PREPACAKAGED FOODS': 1,\n",
       "         'RETAIL WINE/WINE BAR': 2,\n",
       "         'MILK TEA': 4,\n",
       "         'CAFE/STORE': 8,\n",
       "         'RESTAURANT/LIQUOR': 2,\n",
       "         'CHINESE HERBS': 3,\n",
       "         'LIVE BUTCHER': 3,\n",
       "         'CATERED LIQUOR': 1,\n",
       "         'POP-UP FOOD ESTABLISHMENT USER-TIER II': 3,\n",
       "         'DAY CARE 1023': 4,\n",
       "         'TAVERN-LIQUOR': 2,\n",
       "         'GROCERY/TAQUERIA': 6,\n",
       "         'ALTERNATIVE SCHOOL': 1,\n",
       "         'ICE CREAM PARLOR': 3,\n",
       "         'REST/GROCERY': 9,\n",
       "         'GOLF COURSE': 3,\n",
       "         'RESTAURANT/BAR/THEATER': 2,\n",
       "         'DELI/GROCERY': 10,\n",
       "         'GELATO SHOP': 3,\n",
       "         'UNLICENSED FACILITY': 3,\n",
       "         'GROCERY/SERVICE GAS STATION': 8,\n",
       "         'FRENCH MARKET SPACE': 5,\n",
       "         'BANQUET HALL/CATERING': 9,\n",
       "         'HERBAL MEDICINE': 5,\n",
       "         'JUICE BAR/GROCERY': 2,\n",
       "         'FOOD PANTRY/CHURCH': 2,\n",
       "         'PUSH CARTS': 4,\n",
       "         'TOBACCO STORE': 2,\n",
       "         'BLOCKBUSTER VIDEO': 3,\n",
       "         'RELIGIOUS': 1,\n",
       "         'NEWSSTAND': 4,\n",
       "         'POPCORN CORN': 2,\n",
       "         'TAVERN/RESTAURANT': 3,\n",
       "         'SMOOTHIE BAR': 3,\n",
       "         'HEALTH CENTER/NUTRITION CLASSES': 1,\n",
       "         'SLAUGHTER HOUSE/ GROCERY': 14,\n",
       "         'CONVENIENCE/GAS STATION': 2,\n",
       "         'MASSAGE BAR': 2,\n",
       "         'ADULT FAMILY CARE CENTER': 3,\n",
       "         'SUMMER FEEDING': 2,\n",
       "         'GAS STATION /GROCERY': 5,\n",
       "         'DELI/GROCERY STORE': 6,\n",
       "         'VFW HALL': 2,\n",
       "         'NUTRITION SHAKES': 1,\n",
       "         'REST/GYM': 7,\n",
       "         'CLOTHING STORE': 2,\n",
       "         'GROCERY/DELI': 3,\n",
       "         'GROCERY STORE /PHARMACY': 2,\n",
       "         'PEDDLER': 1,\n",
       "         'DRUG STORE/W/ FOOD': 1,\n",
       "         'NUTRITION/HERBALIFE': 2,\n",
       "         'CAR WASH': 1,\n",
       "         'RETAIL FOOD/GAS STATION': 4,\n",
       "         'DAYCARE 1586': 2,\n",
       "         'BEFORE AND AFTER SCHOOL PROGRAM': 7,\n",
       "         'BANQUETS/ROOM SERVICE': 3,\n",
       "         'GYM STORE': 3,\n",
       "         'COFFEE': 3,\n",
       "         'CHURCH/AFTER SCHOOL PROGRAM': 1,\n",
       "         'PREP INSIDE SCHOOL': 3,\n",
       "         'INTERNET CAFE': 1,\n",
       "         'AFTER SCHOOL CARE': 1,\n",
       "         'LOUNGE': 3,\n",
       "         'POPCORN SHOP': 2,\n",
       "         'BOOK STORE': 1,\n",
       "         'HERBAL STORE': 1,\n",
       "         'TEMPORARY KIOSK': 3,\n",
       "         'DRUG STORE/GROCERY': 4,\n",
       "         '1005 NURSING HOME': 3,\n",
       "         'SHUFFLEBOARD CLUB WITH BAR': 3,\n",
       "         'GAS STATION/FOOD': 5,\n",
       "         'BAKERY/RESTAURANT': 2,\n",
       "         'TAVERN/BAR': 3,\n",
       "         'HELICOPTER TERMINAL': 2,\n",
       "         'HOT DOG CART': 2,\n",
       "         'DOLLAR TREE': 3,\n",
       "         'HERBAL LIFE STORE': 1,\n",
       "         'GYM': 2,\n",
       "         'ART GALLERY': 1,\n",
       "         'GROCERY/LIQUOR STORE': 1,\n",
       "         'COMMISARY RESTAURANT': 3,\n",
       "         'LIQUORE STORE/BAR': 2,\n",
       "         'URBAN FARM': 2,\n",
       "         'DELI/BAKERY': 1,\n",
       "         'SOUP KITCHEN': 2,\n",
       "         'LINITED BUSINESS': 2,\n",
       "         'DOLLAR STORE WITH GROCERY': 1,\n",
       "         'COFFEE ROASTER': 1,\n",
       "         'CONVINIENCE STORE': 3,\n",
       "         'CATERING AND WHOLESALE': 2,\n",
       "         'FOOD VENDING MACHINES': 1,\n",
       "         'PALETERIA /ICECREAM SHOP': 3,\n",
       "         'CHILDREN ACTIVITY FACILITY': 2,\n",
       "         'MUSEUM/GALLERY': 2,\n",
       "         'WATERMELON HOUSE': 3,\n",
       "         'MOBILE FOOD DESSERTS VENDOR': 1,\n",
       "         'GROCERY DELIVERY SERVICE': 1,\n",
       "         'COMMISARY': 1,\n",
       "         'GIFT SHOP': 1,\n",
       "         'FITNESS STUDIO': 3,\n",
       "         'VENDING MACHINE': 2,\n",
       "         'CAT/LIQUOR': 1,\n",
       "         'RESTAURANT AND LIQUOR': 1,\n",
       "         'DISTRIBUTOR': 2,\n",
       "         'DAY CARE COMBO (1586)': 1,\n",
       "         'MEAT MARKET': 1,\n",
       "         'GAS STATION /SUBWAY MINI MART.': 2,\n",
       "         '1584-DAY CARE ABOVE 2 YEARS': 2,\n",
       "         'KIDS CAFE': 2,\n",
       "         'TAVERN/1006': 1,\n",
       "         'REPACKAGING PLANT': 1,\n",
       "         '1475 LIQUOR': 2,\n",
       "         'FOOD BOOTH': 2,\n",
       "         'PRODUCE VENDOR': 1,\n",
       "         'HEALTH CENTER': 3,\n",
       "         'GENERAL STORE': 2,\n",
       "         'CHICAGO PARK DISTRICT': 1,\n",
       "         'HERBALIFE NUTRITION': 1,\n",
       "         'HERBAL': 1,\n",
       "         'WHOLESALE BAKERY': 1,\n",
       "         'LIQOUR BREWERY TASTING': 2,\n",
       "         'DRUG TREATMENT FACILITY': 1,\n",
       "         'FURNITURE STORE': 1,\n",
       "         'HOOKA BAR': 1,\n",
       "         'SPA': 1,\n",
       "         'DAY SPA': 1,\n",
       "         'PROTEIN SHAKE BAR': 1,\n",
       "         \"FARMER'S MARKET\": 1})"
      ]
     },
     "execution_count": 27,
     "metadata": {},
     "output_type": "execute_result"
    }
   ],
   "source": [
    "##Re-Checking for incorrect data\n",
    "Counter([row['Facility Type'] for row in food])"
   ]
  },
  {
   "cell_type": "code",
   "execution_count": 28,
   "metadata": {},
   "outputs": [
    {
     "data": {
      "text/plain": [
       "414"
      ]
     },
     "execution_count": 28,
     "metadata": {},
     "output_type": "execute_result"
    }
   ],
   "source": [
    "#Re-checking the length after fixing the incorrect data\n",
    "len(Counter([row['Facility Type'] for row in food]))"
   ]
  },
  {
   "cell_type": "code",
   "execution_count": 29,
   "metadata": {},
   "outputs": [
    {
     "data": {
      "text/plain": [
       "Counter({'CHICAGO': 207880,\n",
       "         'SCHAUMBURG': 27,\n",
       "         'CCHICAGO': 48,\n",
       "         'CHESTNUT STREET': 13,\n",
       "         '312CHICAGO': 2,\n",
       "         'CHICAGOCHICAGO': 9,\n",
       "         'CHICAGOHICAGO': 3,\n",
       "         'CHICAGOBEDFORD PARK': 1,\n",
       "         'CHICAGOI': 3,\n",
       "         'CHCHICAGO': 6,\n",
       "         'CHARLES A HAYES': 4,\n",
       "         'SCHILLER PARK': 3,\n",
       "         'CHICAGO.': 2,\n",
       "         'CHICAGO HEIGHTS': 2,\n",
       "         'CHCICAGO': 3,\n",
       "         'LAKE ZURICH': 1})"
      ]
     },
     "execution_count": 29,
     "metadata": {},
     "output_type": "execute_result"
    }
   ],
   "source": [
    "#Checking all the cities which starts with CH\n",
    "Counter([row['City'] for row in food if 'CH' in row['City']])"
   ]
  },
  {
   "cell_type": "code",
   "execution_count": 30,
   "metadata": {},
   "outputs": [],
   "source": [
    "#The above result shows that there are lot of spelling mistakes for the city CHICAGO. \n",
    "#Thus, fixing all the incorrect city name with correct spelling 'CHICAGO'\n",
    "for row in food:\n",
    "    if row['City'] == 'CHICAGO.' or row['City'] == 'CHICAGOI':\n",
    "        row['City'] = 'CHICAGO'\n",
    "    if row['City'].endswith('CAGO') and row['City']!= 'CHICAGO HEIGHTS' and row['City']!= '312CHICAGO':\n",
    "        row['City'] = \"CHICAGO\""
   ]
  },
  {
   "cell_type": "code",
   "execution_count": 31,
   "metadata": {},
   "outputs": [
    {
     "data": {
      "text/plain": [
       "Counter({'CHICAGO': 207954,\n",
       "         'SCHAUMBURG': 27,\n",
       "         'CHESTNUT STREET': 13,\n",
       "         '312CHICAGO': 2,\n",
       "         'CHICAGOBEDFORD PARK': 1,\n",
       "         'CHARLES A HAYES': 4,\n",
       "         'SCHILLER PARK': 3,\n",
       "         'CHICAGO HEIGHTS': 2,\n",
       "         'LAKE ZURICH': 1})"
      ]
     },
     "execution_count": 31,
     "metadata": {},
     "output_type": "execute_result"
    }
   ],
   "source": [
    "#Re-checking the count of all cities after fixing the above mentioned mistakes\n",
    "Counter([row['City'] for row in food if 'CH' in row['City']])"
   ]
  },
  {
   "cell_type": "markdown",
   "metadata": {},
   "source": [
    "#### Problem : Extra Space and un-organised data\n",
    "#### Solution : Used Split function to fix the above problem\n",
    "#### Justification: To ensure that the data is organised "
   ]
  },
  {
   "cell_type": "code",
   "execution_count": 32,
   "metadata": {},
   "outputs": [
    {
     "data": {
      "text/plain": [
       "'32. FOOD AND NON-FOOD CONTACT SURFACES PROPERLY DESIGNED, CONSTRUCTED AND MAINTAINED - COMMENTS: OBSERVED DUCT TAPE USED AS MEANS OF REPAIR ON FAUCET SPRAYER IN PRE SCHOOL 1 CLASS ROOM. INSTRUCTED MANAGER TO REPAIR AND MAINTAIN AT ALL TIMES.  | 35. WALLS, CEILINGS, ATTACHED EQUIPMENT CONSTRUCTED PER CODE: GOOD REPAIR, SURFACES CLEAN AND DUST-LESS CLEANING METHODS - COMMENTS: OBSERVED 72 X 38 IN WIDE SQUARE HOLE IN WALL AND CEILING OF MOP CLOSET, DIRECTLY ABOVE MOP SINK, AT ALL TIMES. INSTRUCTED MANAGER TO REPAIR AND MAINTAIN AT ALL TIMES. | 38. VENTILATION: ROOMS AND EQUIPMENT VENTED AS REQUIRED: PLUMBING: INSTALLED AND MAINTAINED - COMMENTS: OBSERVED SMALL LEAK UNDERNEATH 1 COMP SINK IN EARLY PRE SCHOOL CLASS ROOM. INSTRUCTED MANAGER TO REPAIR AND MAINTAIN AT ALL TIMES.  OBSERVED SMALL LEAK AT SPRAYER FAUCET IN PRE SCHOOL 1 CLASS ROOM. INSTRUCTED MANAGER TO REPAIR AND MAINTAIN AT ALL TIMES.  | 41. PREMISES MAINTAINED FREE OF LITTER, UNNECESSARY ARTICLES, CLEANING  EQUIPMENT PROPERLY STORED - COMMENTS: OBSERVED CLUTTER, ARTS AND CRAFTS SUPPLIES, STORED ON FLOOR IN CLOSET OF PRE-K ONE ROOM. INSTRUCTED MANAGER TO ELEVATE, REMOVE ANY UNNECESSARY ITEMS AND ORGANIZE ENTIRE AREA AND ELEVATE AT LEAST 6 INCHES OFF THE FLOOR AT ALL TIMES.'"
      ]
     },
     "execution_count": 32,
     "metadata": {},
     "output_type": "execute_result"
    }
   ],
   "source": [
    "# Checking the first record of Violation Column \n",
    "food[0]['Violations']"
   ]
  },
  {
   "cell_type": "code",
   "execution_count": 33,
   "metadata": {},
   "outputs": [],
   "source": [
    "# The above result displays the reasons for Violations, in the form of paragraph which-\n",
    "# makes it difficult to read data and has lot of space between comments \n",
    "# Thus, using split function to organise the data\n",
    "for row in food:\n",
    "    row['Violations'] = row['Violations'].split('| ')"
   ]
  },
  {
   "cell_type": "code",
   "execution_count": 34,
   "metadata": {},
   "outputs": [
    {
     "data": {
      "text/plain": [
       "['32. FOOD AND NON-FOOD CONTACT SURFACES PROPERLY DESIGNED, CONSTRUCTED AND MAINTAINED - COMMENTS: OBSERVED DUCT TAPE USED AS MEANS OF REPAIR ON FAUCET SPRAYER IN PRE SCHOOL 1 CLASS ROOM. INSTRUCTED MANAGER TO REPAIR AND MAINTAIN AT ALL TIMES.  ',\n",
       " '35. WALLS, CEILINGS, ATTACHED EQUIPMENT CONSTRUCTED PER CODE: GOOD REPAIR, SURFACES CLEAN AND DUST-LESS CLEANING METHODS - COMMENTS: OBSERVED 72 X 38 IN WIDE SQUARE HOLE IN WALL AND CEILING OF MOP CLOSET, DIRECTLY ABOVE MOP SINK, AT ALL TIMES. INSTRUCTED MANAGER TO REPAIR AND MAINTAIN AT ALL TIMES. ',\n",
       " '38. VENTILATION: ROOMS AND EQUIPMENT VENTED AS REQUIRED: PLUMBING: INSTALLED AND MAINTAINED - COMMENTS: OBSERVED SMALL LEAK UNDERNEATH 1 COMP SINK IN EARLY PRE SCHOOL CLASS ROOM. INSTRUCTED MANAGER TO REPAIR AND MAINTAIN AT ALL TIMES.  OBSERVED SMALL LEAK AT SPRAYER FAUCET IN PRE SCHOOL 1 CLASS ROOM. INSTRUCTED MANAGER TO REPAIR AND MAINTAIN AT ALL TIMES.  ',\n",
       " '41. PREMISES MAINTAINED FREE OF LITTER, UNNECESSARY ARTICLES, CLEANING  EQUIPMENT PROPERLY STORED - COMMENTS: OBSERVED CLUTTER, ARTS AND CRAFTS SUPPLIES, STORED ON FLOOR IN CLOSET OF PRE-K ONE ROOM. INSTRUCTED MANAGER TO ELEVATE, REMOVE ANY UNNECESSARY ITEMS AND ORGANIZE ENTIRE AREA AND ELEVATE AT LEAST 6 INCHES OFF THE FLOOR AT ALL TIMES.']"
      ]
     },
     "execution_count": 34,
     "metadata": {},
     "output_type": "execute_result"
    }
   ],
   "source": [
    "# Re-checking the first record of Violation Column after performing split function-\n",
    "# which after exploring becomes easier to read as they are categorized numerically\n",
    "food[0]['Violations']"
   ]
  },
  {
   "cell_type": "markdown",
   "metadata": {},
   "source": [
    "#### Problem: Redundant data in the data set\n",
    "#### Solution: Using del function to rectify the above problem\n",
    "#### Justification: An average person does not require Latitude and Longitude to find address -\n",
    "####  in daily life +  Location column itself contains latitude and longtitude which if required can be fetched from location column"
   ]
  },
  {
   "cell_type": "code",
   "execution_count": 35,
   "metadata": {},
   "outputs": [
    {
     "data": {
      "text/plain": [
       "OrderedDict([('ï»¿Inspection ID', '2177022'),\n",
       "             ('DBA Name', 'CORNERSTONE CHILD CARE'),\n",
       "             ('AKA Name', 'CORNERSTONE CHILD CARE'),\n",
       "             ('License #', '2215716'),\n",
       "             ('Facility Type', 'DAYCARE ABOVE AND UNDER 2 YEARS'),\n",
       "             ('Risk', 'RISK 1 (HIGH)'),\n",
       "             ('Address', '1111 N WELLS ST'),\n",
       "             ('City', 'CHICAGO'),\n",
       "             ('State', 'IL'),\n",
       "             ('Zip', '60610'),\n",
       "             ('Inspection Date', '06/08/2018'),\n",
       "             ('Inspection Type', 'CANVASS'),\n",
       "             ('Results', 'PASS'),\n",
       "             ('Violations',\n",
       "              ['32. FOOD AND NON-FOOD CONTACT SURFACES PROPERLY DESIGNED, CONSTRUCTED AND MAINTAINED - COMMENTS: OBSERVED DUCT TAPE USED AS MEANS OF REPAIR ON FAUCET SPRAYER IN PRE SCHOOL 1 CLASS ROOM. INSTRUCTED MANAGER TO REPAIR AND MAINTAIN AT ALL TIMES.  ',\n",
       "               '35. WALLS, CEILINGS, ATTACHED EQUIPMENT CONSTRUCTED PER CODE: GOOD REPAIR, SURFACES CLEAN AND DUST-LESS CLEANING METHODS - COMMENTS: OBSERVED 72 X 38 IN WIDE SQUARE HOLE IN WALL AND CEILING OF MOP CLOSET, DIRECTLY ABOVE MOP SINK, AT ALL TIMES. INSTRUCTED MANAGER TO REPAIR AND MAINTAIN AT ALL TIMES. ',\n",
       "               '38. VENTILATION: ROOMS AND EQUIPMENT VENTED AS REQUIRED: PLUMBING: INSTALLED AND MAINTAINED - COMMENTS: OBSERVED SMALL LEAK UNDERNEATH 1 COMP SINK IN EARLY PRE SCHOOL CLASS ROOM. INSTRUCTED MANAGER TO REPAIR AND MAINTAIN AT ALL TIMES.  OBSERVED SMALL LEAK AT SPRAYER FAUCET IN PRE SCHOOL 1 CLASS ROOM. INSTRUCTED MANAGER TO REPAIR AND MAINTAIN AT ALL TIMES.  ',\n",
       "               '41. PREMISES MAINTAINED FREE OF LITTER, UNNECESSARY ARTICLES, CLEANING  EQUIPMENT PROPERLY STORED - COMMENTS: OBSERVED CLUTTER, ARTS AND CRAFTS SUPPLIES, STORED ON FLOOR IN CLOSET OF PRE-K ONE ROOM. INSTRUCTED MANAGER TO ELEVATE, REMOVE ANY UNNECESSARY ITEMS AND ORGANIZE ENTIRE AREA AND ELEVATE AT LEAST 6 INCHES OFF THE FLOOR AT ALL TIMES.']),\n",
       "             ('Latitude', '41.90243867998565'),\n",
       "             ('Longitude', '-87.63427774207456'),\n",
       "             ('Location', '(41.90243867998565, -87.63427774207456)')])"
      ]
     },
     "execution_count": 35,
     "metadata": {},
     "output_type": "execute_result"
    }
   ],
   "source": [
    "#Checking the first record of the csv file which consists of Latitude and  Longtitude\n",
    "food[0]"
   ]
  },
  {
   "cell_type": "code",
   "execution_count": 36,
   "metadata": {},
   "outputs": [],
   "source": [
    "# Deleting Latitude and  Longtitude as location contains data of both column\n",
    "for row in food:\n",
    "    del row['Latitude']\n",
    "    del row['Longitude']"
   ]
  },
  {
   "cell_type": "code",
   "execution_count": 37,
   "metadata": {},
   "outputs": [
    {
     "data": {
      "text/plain": [
       "OrderedDict([('ï»¿Inspection ID', '2177022'),\n",
       "             ('DBA Name', 'CORNERSTONE CHILD CARE'),\n",
       "             ('AKA Name', 'CORNERSTONE CHILD CARE'),\n",
       "             ('License #', '2215716'),\n",
       "             ('Facility Type', 'DAYCARE ABOVE AND UNDER 2 YEARS'),\n",
       "             ('Risk', 'RISK 1 (HIGH)'),\n",
       "             ('Address', '1111 N WELLS ST'),\n",
       "             ('City', 'CHICAGO'),\n",
       "             ('State', 'IL'),\n",
       "             ('Zip', '60610'),\n",
       "             ('Inspection Date', '06/08/2018'),\n",
       "             ('Inspection Type', 'CANVASS'),\n",
       "             ('Results', 'PASS'),\n",
       "             ('Violations',\n",
       "              ['32. FOOD AND NON-FOOD CONTACT SURFACES PROPERLY DESIGNED, CONSTRUCTED AND MAINTAINED - COMMENTS: OBSERVED DUCT TAPE USED AS MEANS OF REPAIR ON FAUCET SPRAYER IN PRE SCHOOL 1 CLASS ROOM. INSTRUCTED MANAGER TO REPAIR AND MAINTAIN AT ALL TIMES.  ',\n",
       "               '35. WALLS, CEILINGS, ATTACHED EQUIPMENT CONSTRUCTED PER CODE: GOOD REPAIR, SURFACES CLEAN AND DUST-LESS CLEANING METHODS - COMMENTS: OBSERVED 72 X 38 IN WIDE SQUARE HOLE IN WALL AND CEILING OF MOP CLOSET, DIRECTLY ABOVE MOP SINK, AT ALL TIMES. INSTRUCTED MANAGER TO REPAIR AND MAINTAIN AT ALL TIMES. ',\n",
       "               '38. VENTILATION: ROOMS AND EQUIPMENT VENTED AS REQUIRED: PLUMBING: INSTALLED AND MAINTAINED - COMMENTS: OBSERVED SMALL LEAK UNDERNEATH 1 COMP SINK IN EARLY PRE SCHOOL CLASS ROOM. INSTRUCTED MANAGER TO REPAIR AND MAINTAIN AT ALL TIMES.  OBSERVED SMALL LEAK AT SPRAYER FAUCET IN PRE SCHOOL 1 CLASS ROOM. INSTRUCTED MANAGER TO REPAIR AND MAINTAIN AT ALL TIMES.  ',\n",
       "               '41. PREMISES MAINTAINED FREE OF LITTER, UNNECESSARY ARTICLES, CLEANING  EQUIPMENT PROPERLY STORED - COMMENTS: OBSERVED CLUTTER, ARTS AND CRAFTS SUPPLIES, STORED ON FLOOR IN CLOSET OF PRE-K ONE ROOM. INSTRUCTED MANAGER TO ELEVATE, REMOVE ANY UNNECESSARY ITEMS AND ORGANIZE ENTIRE AREA AND ELEVATE AT LEAST 6 INCHES OFF THE FLOOR AT ALL TIMES.']),\n",
       "             ('Location', '(41.90243867998565, -87.63427774207456)')])"
      ]
     },
     "execution_count": 37,
     "metadata": {},
     "output_type": "execute_result"
    }
   ],
   "source": [
    "#Re-checking the first record of the csv file after performing deletion\n",
    "food[0]"
   ]
  },
  {
   "cell_type": "markdown",
   "metadata": {},
   "source": [
    "#### Problem: No fixed format used\n",
    "#### Solution: zfill is used to bring the Zip and License columns in the standard format based on the maximum length\n",
    "#### Justification: To fetch a structured data and maintain uniformity\n"
   ]
  },
  {
   "cell_type": "code",
   "execution_count": 38,
   "metadata": {},
   "outputs": [
    {
     "name": "stdout",
     "output_type": "stream",
     "text": [
      "7\n"
     ]
    }
   ],
   "source": [
    "# Checking the Maximum length of License\n",
    "max_length = max([len(row['License #']) for row in food])\n",
    "print(max_length)"
   ]
  },
  {
   "cell_type": "code",
   "execution_count": 39,
   "metadata": {},
   "outputs": [
    {
     "data": {
      "text/plain": [
       "Counter({7: 163820, 5: 37124, 4: 6092, 1: 571, 2: 57, 3: 594, 6: 37, 0: 17})"
      ]
     },
     "execution_count": 39,
     "metadata": {},
     "output_type": "execute_result"
    }
   ],
   "source": [
    "#Checking length of all the records in License column \n",
    "Counter(len(row['License #']) for row in food)"
   ]
  },
  {
   "cell_type": "code",
   "execution_count": 40,
   "metadata": {},
   "outputs": [],
   "source": [
    "# Converting all the License field data whose length is less than the maximum length\n",
    "# Thus,replacing irregular License Length using zfill in order to maintain uniformity,\n",
    "# as zfill replaces all the null values with 0 by default\n",
    "for row in food:\n",
    "    if row['License #']== '':\n",
    "        row['License #'] = row['License #'].zfill(7)\n",
    "    elif (len(row['License #']) < max_length):\n",
    "        row['License #'] = row['License #'].zfill(7)"
   ]
  },
  {
   "cell_type": "code",
   "execution_count": 41,
   "metadata": {},
   "outputs": [
    {
     "data": {
      "text/plain": [
       "Counter({7: 208312})"
      ]
     },
     "execution_count": 41,
     "metadata": {},
     "output_type": "execute_result"
    }
   ],
   "source": [
    "#Re-checking length of all the records in License column after using Zfill function\n",
    "Counter(len(row['License #']) for row in food)"
   ]
  },
  {
   "cell_type": "code",
   "execution_count": 42,
   "metadata": {},
   "outputs": [
    {
     "name": "stdout",
     "output_type": "stream",
     "text": [
      "5\n"
     ]
    }
   ],
   "source": [
    "# Checking the Maximum length of Zip\n",
    "max_length = max([len(row['Zip']) for row in food])\n",
    "print(max_length)"
   ]
  },
  {
   "cell_type": "code",
   "execution_count": 43,
   "metadata": {},
   "outputs": [
    {
     "data": {
      "text/plain": [
       "Counter({5: 208262, 0: 50})"
      ]
     },
     "execution_count": 43,
     "metadata": {},
     "output_type": "execute_result"
    }
   ],
   "source": [
    "# Checking the length of all records of Zip  \n",
    "Counter(len(row['Zip']) for row in food)"
   ]
  },
  {
   "cell_type": "code",
   "execution_count": 44,
   "metadata": {},
   "outputs": [],
   "source": [
    "# The above result shows that Zip has Null Values and the maximum length of Zip is 5.\n",
    "# Thus,replacing all the blank value with 0 in order to maintain uniformity.\n",
    "# Using zfill to replace all the values with max_length,\n",
    "# as zfill replaces all the null values with 0 by default\n",
    "for row in food:\n",
    "    if row['Zip']=='':\n",
    "        row['Zip'] = row['Zip'].zfill(max_length)"
   ]
  },
  {
   "cell_type": "code",
   "execution_count": 45,
   "metadata": {},
   "outputs": [
    {
     "data": {
      "text/plain": [
       "Counter({5: 208312})"
      ]
     },
     "execution_count": 45,
     "metadata": {},
     "output_type": "execute_result"
    }
   ],
   "source": [
    "#Re-Checking the length of all records of Zip   \n",
    "Counter(len(row['Zip']) for row in food)"
   ]
  },
  {
   "cell_type": "code",
   "execution_count": 46,
   "metadata": {},
   "outputs": [],
   "source": [
    "#writing the cleaned csv file\n",
    "with open('Food-Inspections-Cleaned.csv',\"w\",newline = '') as food_write:\n",
    "    data = csv.DictWriter(food_write,list(food[0].keys()))\n",
    "    data.writeheader()\n",
    "    data.writerows(food)"
   ]
  }
 ],
 "metadata": {
  "kernelspec": {
   "display_name": "Python 3",
   "language": "python",
   "name": "python3"
  },
  "language_info": {
   "codemirror_mode": {
    "name": "ipython",
    "version": 3
   },
   "file_extension": ".py",
   "mimetype": "text/x-python",
   "name": "python",
   "nbconvert_exporter": "python",
   "pygments_lexer": "ipython3",
   "version": "3.7.6"
  }
 },
 "nbformat": 4,
 "nbformat_minor": 2
}
